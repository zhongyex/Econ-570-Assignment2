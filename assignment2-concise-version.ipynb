{
 "cells": [
  {
   "cell_type": "code",
   "execution_count": 1,
   "metadata": {},
   "outputs": [],
   "source": [
    "import pandas as pd\n",
    "import numpy as np\n",
    "import a2functions as f"
   ]
  },
  {
   "cell_type": "markdown",
   "metadata": {},
   "source": [
    "## 1. Simulate a DGP where the outcome of interest depends on a randomly assigned treatment and some observed covariates. How does your estimate of the treatment effect parameter compare in the following two cases"
   ]
  },
  {
   "cell_type": "markdown",
   "metadata": {},
   "source": [
    "### a. You do not control for any covariates"
   ]
  },
  {
   "cell_type": "markdown",
   "metadata": {},
   "source": [
    "The DGP can be found in detail from the following code, the DAG here is w -> y, x -> y,\n",
    "and we present the Monte Carlo experiment with sample sizes N=100 and N=1000, the bias, RMSE, standard error and size of the treatment effect estimate."
   ]
  },
  {
   "cell_type": "code",
   "execution_count": 2,
   "metadata": {},
   "outputs": [],
   "source": [
    "df=f.generate_dataset1a(100)\n",
    "df.to_csv('data1a100.csv', index=False)"
   ]
  },
  {
   "cell_type": "code",
   "execution_count": 3,
   "metadata": {},
   "outputs": [
    {
     "data": {
      "text/plain": [
       "{'estimated_effect': 1.4043630531275282,\n",
       " 'bias': -0.09563694687247182,\n",
       " 'rmse': 0.3092522382659046,\n",
       " 'standard_error': 0.4350247762252514}"
      ]
     },
     "execution_count": 3,
     "metadata": {},
     "output_type": "execute_result"
    }
   ],
   "source": [
    "f.estimate_treatmenteffect(df)"
   ]
  },
  {
   "cell_type": "code",
   "execution_count": 4,
   "metadata": {},
   "outputs": [],
   "source": [
    "df=f.generate_dataset1a(1000)\n",
    "df.to_csv('data1a1000.csv', index=False)"
   ]
  },
  {
   "cell_type": "code",
   "execution_count": 5,
   "metadata": {},
   "outputs": [
    {
     "data": {
      "text/plain": [
       "{'estimated_effect': 1.5630011202928156,\n",
       " 'bias': 0.06300112029281557,\n",
       " 'rmse': 0.2510002396270083,\n",
       " 'standard_error': 0.13048308815694237}"
      ]
     },
     "execution_count": 5,
     "metadata": {},
     "output_type": "execute_result"
    }
   ],
   "source": [
    "f.estimate_treatmenteffect(df)"
   ]
  },
  {
   "cell_type": "markdown",
   "metadata": {},
   "source": [
    "### b. You control for all the covariates that affect the outcome"
   ]
  },
  {
   "cell_type": "markdown",
   "metadata": {},
   "source": [
    "The DGP can be found in detail from the following code, the DAG here is w -> y, x -> y, the covariate now is constant, \n",
    "and we present the Monte Carlo experiment with sample sizes N=100 and N=1000, the bias, RMSE, standard error and size of the treatment effect estimate."
   ]
  },
  {
   "cell_type": "code",
   "execution_count": 6,
   "metadata": {},
   "outputs": [],
   "source": [
    "df=f.generate_dataset1b(100)\n",
    "df.to_csv('data1b100.csv', index=False)"
   ]
  },
  {
   "cell_type": "code",
   "execution_count": 7,
   "metadata": {},
   "outputs": [
    {
     "data": {
      "text/plain": [
       "{'estimated_effect': 1.429233488582656,\n",
       " 'bias': -0.07076651141734391,\n",
       " 'rmse': 0.26601975756951574,\n",
       " 'standard_error': 0.06206542761168939}"
      ]
     },
     "execution_count": 7,
     "metadata": {},
     "output_type": "execute_result"
    }
   ],
   "source": [
    "f.estimate_treatmenteffect(df)"
   ]
  },
  {
   "cell_type": "code",
   "execution_count": 8,
   "metadata": {},
   "outputs": [],
   "source": [
    "df=f.generate_dataset1b(1000)\n",
    "df.to_csv('data1b1000.csv', index=False)"
   ]
  },
  {
   "cell_type": "code",
   "execution_count": 9,
   "metadata": {},
   "outputs": [
    {
     "data": {
      "text/plain": [
       "{'estimated_effect': 1.5060925828626495,\n",
       " 'bias': 0.006092582862649465,\n",
       " 'rmse': 0.07805499896002475,\n",
       " 'standard_error': 0.020740034234520036}"
      ]
     },
     "execution_count": 9,
     "metadata": {},
     "output_type": "execute_result"
    }
   ],
   "source": [
    "f.estimate_treatmenteffect(df)"
   ]
  },
  {
   "cell_type": "markdown",
   "metadata": {},
   "source": [
    "## 2. Simulate a DGP with a confounder (common cause)"
   ]
  },
  {
   "cell_type": "markdown",
   "metadata": {},
   "source": [
    "### a. You fail to control for the confounder"
   ]
  },
  {
   "cell_type": "markdown",
   "metadata": {},
   "source": [
    "The DGP can be found in detail from the following code, the DAG here is w -> y, x -> y, u -> w, u -> y, \n",
    "and we present the Monte Carlo experiment with sample sizes N=100 and N=1000, the bias, RMSE, standard error and size of the treatment effect estimate."
   ]
  },
  {
   "cell_type": "code",
   "execution_count": 10,
   "metadata": {},
   "outputs": [],
   "source": [
    "df=f.generate_dataset2a(100)\n",
    "df.to_csv('data2a100.csv', index=False)"
   ]
  },
  {
   "cell_type": "code",
   "execution_count": 11,
   "metadata": {},
   "outputs": [
    {
     "data": {
      "text/plain": [
       "{'estimated_effect': 1.6247020584958918,\n",
       " 'bias': 0.12470205849589178,\n",
       " 'rmse': 0.35313178630065545,\n",
       " 'standard_error': 0.3988645857019625}"
      ]
     },
     "execution_count": 11,
     "metadata": {},
     "output_type": "execute_result"
    }
   ],
   "source": [
    "f.estimate_treatmenteffect(df)"
   ]
  },
  {
   "cell_type": "code",
   "execution_count": 12,
   "metadata": {},
   "outputs": [],
   "source": [
    "df=f.generate_dataset2a(1000)\n",
    "df.to_csv('data2a1000.csv', index=False)"
   ]
  },
  {
   "cell_type": "code",
   "execution_count": 13,
   "metadata": {},
   "outputs": [
    {
     "data": {
      "text/plain": [
       "{'estimated_effect': 1.6825222554555994,\n",
       " 'bias': 0.1825222554555994,\n",
       " 'rmse': 0.4272262345123476,\n",
       " 'standard_error': 0.12938811393774372}"
      ]
     },
     "execution_count": 13,
     "metadata": {},
     "output_type": "execute_result"
    }
   ],
   "source": [
    "f.estimate_treatmenteffect(df)"
   ]
  },
  {
   "cell_type": "markdown",
   "metadata": {},
   "source": [
    "### b. You do control for the confounder"
   ]
  },
  {
   "cell_type": "markdown",
   "metadata": {},
   "source": [
    "The DGP can be found in detail from the following code, the DAG here is w -> y, x -> y, u -> w, u -> y, now the value of confounder is constant, \n",
    "and we present the Monte Carlo experiment with sample sizes N=100 and N=1000,  the bias, RMSE, standard error and size of the treatment effect estimate."
   ]
  },
  {
   "cell_type": "code",
   "execution_count": 14,
   "metadata": {},
   "outputs": [],
   "source": [
    "df=f.generate_dataset2b(100)\n",
    "df.to_csv('data2b100.csv', index=False)"
   ]
  },
  {
   "cell_type": "code",
   "execution_count": 15,
   "metadata": {},
   "outputs": [
    {
     "data": {
      "text/plain": [
       "{'estimated_effect': 2.13867186851519,\n",
       " 'bias': 0.63867186851519,\n",
       " 'rmse': 0.7991694867268081,\n",
       " 'standard_error': 0.3752970850327385}"
      ]
     },
     "execution_count": 15,
     "metadata": {},
     "output_type": "execute_result"
    }
   ],
   "source": [
    "f.estimate_treatmenteffect(df)"
   ]
  },
  {
   "cell_type": "code",
   "execution_count": 16,
   "metadata": {},
   "outputs": [],
   "source": [
    "df=f.generate_dataset2b(1000)\n",
    "df.to_csv('data2b1000.csv', index=False)"
   ]
  },
  {
   "cell_type": "code",
   "execution_count": 17,
   "metadata": {},
   "outputs": [
    {
     "data": {
      "text/plain": [
       "{'estimated_effect': 1.4042332995029554,\n",
       " 'bias': -0.09576670049704461,\n",
       " 'rmse': 0.3094619532301905,\n",
       " 'standard_error': 0.13195352474570415}"
      ]
     },
     "execution_count": 17,
     "metadata": {},
     "output_type": "execute_result"
    }
   ],
   "source": [
    "f.estimate_treatmenteffect(df)"
   ]
  },
  {
   "cell_type": "markdown",
   "metadata": {},
   "source": [
    "## 3. Simulate a DGP with selection bias into the treatment (variable in between the path from the treatment to the outcome)"
   ]
  },
  {
   "cell_type": "markdown",
   "metadata": {},
   "source": [
    "### a. You control for the variable in between the path from cause to effect"
   ]
  },
  {
   "cell_type": "markdown",
   "metadata": {},
   "source": [
    "The DGP can be found in detail from the following code, the DAG here is w -> y, x -> y, s -> y, s stands for the selection bias,\n",
    "and we present the Monte Carlo experiment with sample sizes N=100 and N=1000, the bias, RMSE, standard error and size of the treatment effect estimate."
   ]
  },
  {
   "cell_type": "code",
   "execution_count": 18,
   "metadata": {},
   "outputs": [],
   "source": [
    "df=f.generate_dataset3a(100)\n",
    "df.to_csv('data3a100.csv', index=False)"
   ]
  },
  {
   "cell_type": "code",
   "execution_count": 19,
   "metadata": {},
   "outputs": [
    {
     "data": {
      "text/plain": [
       "{'estimated_effect': 1.4850168904119831,\n",
       " 'bias': -0.014983109588016852,\n",
       " 'rmse': 0.12240551289879412,\n",
       " 'standard_error': 0.3957673482024291}"
      ]
     },
     "execution_count": 19,
     "metadata": {},
     "output_type": "execute_result"
    }
   ],
   "source": [
    "f.estimate_treatmenteffect(df)"
   ]
  },
  {
   "cell_type": "code",
   "execution_count": 20,
   "metadata": {},
   "outputs": [],
   "source": [
    "df=f.generate_dataset3a(1000)\n",
    "df.to_csv('data3a1000.csv', index=False)"
   ]
  },
  {
   "cell_type": "code",
   "execution_count": 21,
   "metadata": {},
   "outputs": [
    {
     "data": {
      "text/plain": [
       "{'estimated_effect': 1.5740552883909533,\n",
       " 'bias': 0.07405528839095332,\n",
       " 'rmse': 0.2721310132839573,\n",
       " 'standard_error': 0.12559009924291892}"
      ]
     },
     "execution_count": 21,
     "metadata": {},
     "output_type": "execute_result"
    }
   ],
   "source": [
    "f.estimate_treatmenteffect(df)"
   ]
  },
  {
   "cell_type": "markdown",
   "metadata": {},
   "source": [
    "### b. You do not control for the variable in between the path from cause to effect"
   ]
  },
  {
   "cell_type": "markdown",
   "metadata": {},
   "source": [
    "The DGP can be found in detail from the following code, the DAG here is w -> y, x -> y, s -> y, \n",
    "and we present the Monte Carlo experiment with sample sizes N=100 and N=1000, the bias, RMSE, standard error and size of the treatment effect estimate."
   ]
  },
  {
   "cell_type": "code",
   "execution_count": 22,
   "metadata": {},
   "outputs": [],
   "source": [
    "df=f.generate_dataset3b(100)\n",
    "df.to_csv('data3b100.csv', index=False)"
   ]
  },
  {
   "cell_type": "code",
   "execution_count": 23,
   "metadata": {},
   "outputs": [
    {
     "data": {
      "text/plain": [
       "{'estimated_effect': 1.8901058894553024,\n",
       " 'bias': 0.39010588945530245,\n",
       " 'rmse': 0.624584573500901,\n",
       " 'standard_error': 0.4081273792619597}"
      ]
     },
     "execution_count": 23,
     "metadata": {},
     "output_type": "execute_result"
    }
   ],
   "source": [
    "f.estimate_treatmenteffect(df)"
   ]
  },
  {
   "cell_type": "code",
   "execution_count": 24,
   "metadata": {},
   "outputs": [],
   "source": [
    "df=f.generate_dataset3b(1000)\n",
    "df.to_csv('data3b1000.csv', index=False)"
   ]
  },
  {
   "cell_type": "code",
   "execution_count": 25,
   "metadata": {},
   "outputs": [
    {
     "data": {
      "text/plain": [
       "{'estimated_effect': 1.8227482254888616,\n",
       " 'bias': 0.3227482254888616,\n",
       " 'rmse': 0.5681093428987607,\n",
       " 'standard_error': 0.1286393166794203}"
      ]
     },
     "execution_count": 25,
     "metadata": {},
     "output_type": "execute_result"
    }
   ],
   "source": [
    "f.estimate_treatmenteffect(df)"
   ]
  },
  {
   "cell_type": "markdown",
   "metadata": {},
   "source": [
    "## 4. Simulate a DGP where the outcome variable is overrepresented at 0."
   ]
  },
  {
   "cell_type": "markdown",
   "metadata": {},
   "source": [
    "The DGP can be found in detail from the following code, the DAG here is w -> y, x -> y, this time most outcome are untreated, \n",
    "and we present the Monte Carlo experiment with sample sizes N=100 and N=1000, the bias, RMSE, standard error and size of the treatment effect estimate."
   ]
  },
  {
   "cell_type": "code",
   "execution_count": 26,
   "metadata": {},
   "outputs": [],
   "source": [
    "df4100=f.generate_dataset4(100)\n",
    "df4100.to_csv('data4100.csv', index=False)"
   ]
  },
  {
   "cell_type": "code",
   "execution_count": 27,
   "metadata": {},
   "outputs": [],
   "source": [
    "df41000=f.generate_dataset4(1000)\n",
    "df41000.to_csv('data41000.csv', index=False)"
   ]
  },
  {
   "cell_type": "markdown",
   "metadata": {},
   "source": [
    "### a. You estimate the treatment effect parameter using the Conditional-on-Positives (COP) framework"
   ]
  },
  {
   "cell_type": "code",
   "execution_count": 28,
   "metadata": {},
   "outputs": [
    {
     "data": {
      "text/plain": [
       "{'estimated_effect': 0.6100972567533738,\n",
       " 'bias': -0.8899027432466262,\n",
       " 'rmse': 0.9433465658211865,\n",
       " 'standard_error': 0.23699021425762756}"
      ]
     },
     "execution_count": 28,
     "metadata": {},
     "output_type": "execute_result"
    }
   ],
   "source": [
    "f.estimate_treatmenteffect_cop(df4100)"
   ]
  },
  {
   "cell_type": "code",
   "execution_count": 29,
   "metadata": {},
   "outputs": [
    {
     "data": {
      "text/plain": [
       "{'estimated_effect': 0.7633602652720606,\n",
       " 'bias': -0.7366397347279394,\n",
       " 'rmse': 0.8582771899147381,\n",
       " 'standard_error': 0.08924465002790108}"
      ]
     },
     "execution_count": 29,
     "metadata": {},
     "output_type": "execute_result"
    }
   ],
   "source": [
    "f.estimate_treatmenteffect_cop(df41000)"
   ]
  },
  {
   "cell_type": "markdown",
   "metadata": {},
   "source": [
    "### b. You estimate the treatment effect using the conventional method of comparing the outcomes of treated and untreated individuals."
   ]
  },
  {
   "cell_type": "code",
   "execution_count": 30,
   "metadata": {},
   "outputs": [
    {
     "data": {
      "text/plain": [
       "{'estimated_effect': 1.2551121008406538,\n",
       " 'bias': -0.24488789915934617,\n",
       " 'rmse': 0.49486149492493975,\n",
       " 'standard_error': 0.2621350631721448}"
      ]
     },
     "execution_count": 30,
     "metadata": {},
     "output_type": "execute_result"
    }
   ],
   "source": [
    "f.estimate_treatmenteffect(df4100)"
   ]
  },
  {
   "cell_type": "code",
   "execution_count": 31,
   "metadata": {},
   "outputs": [
    {
     "data": {
      "text/plain": [
       "{'estimated_effect': 1.411413961295402,\n",
       " 'bias': -0.08858603870459802,\n",
       " 'rmse': 0.29763406845419765,\n",
       " 'standard_error': 0.10154767436562655}"
      ]
     },
     "execution_count": 31,
     "metadata": {},
     "output_type": "execute_result"
    }
   ],
   "source": [
    "f.estimate_treatmenteffect(df41000)"
   ]
  },
  {
   "cell_type": "code",
   "execution_count": null,
   "metadata": {},
   "outputs": [],
   "source": []
  }
 ],
 "metadata": {
  "kernelspec": {
   "display_name": "Python 3",
   "language": "python",
   "name": "python3"
  },
  "language_info": {
   "codemirror_mode": {
    "name": "ipython",
    "version": 3
   },
   "file_extension": ".py",
   "mimetype": "text/x-python",
   "name": "python",
   "nbconvert_exporter": "python",
   "pygments_lexer": "ipython3",
   "version": "3.7.1"
  }
 },
 "nbformat": 4,
 "nbformat_minor": 4
}
