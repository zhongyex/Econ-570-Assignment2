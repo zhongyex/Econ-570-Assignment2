{
 "cells": [
  {
   "cell_type": "code",
   "execution_count": 1,
   "metadata": {},
   "outputs": [],
   "source": [
    "import pandas as pd\n",
    "import numpy as np"
   ]
  },
  {
   "cell_type": "markdown",
   "metadata": {},
   "source": [
    "## 1. Simulate a DGP where the outcome of interest depends on a randomly assigned treatment and some observed covariates. How does your estimate of the treatment effect parameter compare in the following two cases"
   ]
  },
  {
   "cell_type": "markdown",
   "metadata": {},
   "source": [
    "### a. You do not control for any covariates"
   ]
  },
  {
   "cell_type": "markdown",
   "metadata": {},
   "source": [
    "The DGP can be found in detail from the following code, the DAG here is w -> y, x -> y,\n",
    "and we present the Monte Carlo experiment with sample sizes N=100 and N=1000, the bias, RMSE, standard error and size of the treatment effect estimate."
   ]
  },
  {
   "cell_type": "code",
   "execution_count": 2,
   "metadata": {},
   "outputs": [],
   "source": [
    "def generate_dataset1a(n_samples=100):    \n",
    "    \"\"\"\n",
    "    w is treatment, y is outcome, x is covariate\n",
    "    \"\"\"   \n",
    "    w = np.random.binomial(n=1, p=0.4, size=n_samples)\n",
    "    x = np.random.normal(2, 1, n_samples)    \n",
    "    y0 =  2 * x\n",
    "    y1 =  y0 + 1.5\n",
    "    y = np.where(w == 0, y0, y1) + 0.3 * np.random.normal(size=n_samples)\n",
    "        \n",
    "    return pd.DataFrame({\"x\":x, \"y\":y, \"w\":w})"
   ]
  },
  {
   "cell_type": "code",
   "execution_count": 3,
   "metadata": {},
   "outputs": [],
   "source": [
    "def estimate_treatmenteffect(df):\n",
    "    y0 = df[df.w == 0]\n",
    "    y1 = df[df.w == 1]\n",
    "    \n",
    "    delta = y1.y.mean() - y0.y.mean()\n",
    "    delta_err = np.sqrt(\n",
    "        y1.y.var() / y1.shape[0] + \n",
    "        y0.y.var() / y0.shape[0])\n",
    "    bias = delta - 1.5\n",
    "    rmse = np.sqrt(abs(bias))\n",
    "    \n",
    "    return {\"estimated_effect\": delta, \"bias\":bias, \"rmse\":rmse,\"standard_error\": delta_err}"
   ]
  },
  {
   "cell_type": "code",
   "execution_count": 4,
   "metadata": {},
   "outputs": [],
   "source": [
    "df=generate_dataset1a(100)\n",
    "df.to_csv('data1a100.csv', index=False)"
   ]
  },
  {
   "cell_type": "code",
   "execution_count": 5,
   "metadata": {},
   "outputs": [
    {
     "data": {
      "text/plain": [
       "{'estimated_effect': 1.0463495711821675,\n",
       " 'bias': -0.45365042881783246,\n",
       " 'rmse': 0.6735357665468349,\n",
       " 'standard_error': 0.418145143089745}"
      ]
     },
     "execution_count": 5,
     "metadata": {},
     "output_type": "execute_result"
    }
   ],
   "source": [
    "estimate_treatmenteffect(df)"
   ]
  },
  {
   "cell_type": "code",
   "execution_count": 6,
   "metadata": {},
   "outputs": [],
   "source": [
    "df=generate_dataset1a(1000)\n",
    "df.to_csv('data1a1000.csv', index=False)"
   ]
  },
  {
   "cell_type": "code",
   "execution_count": 7,
   "metadata": {},
   "outputs": [
    {
     "data": {
      "text/plain": [
       "{'estimated_effect': 1.7865308351749523,\n",
       " 'bias': 0.28653083517495226,\n",
       " 'rmse': 0.5352857509545274,\n",
       " 'standard_error': 0.12712009538312247}"
      ]
     },
     "execution_count": 7,
     "metadata": {},
     "output_type": "execute_result"
    }
   ],
   "source": [
    "estimate_treatmenteffect(df)"
   ]
  },
  {
   "cell_type": "markdown",
   "metadata": {},
   "source": [
    "### b. You control for all the covariates that affect the outcome"
   ]
  },
  {
   "cell_type": "markdown",
   "metadata": {},
   "source": [
    "The DGP can be found in detail from the following code, the DAG here is w -> y, x -> y, the covariate now is constant, \n",
    "and we present the Monte Carlo experiment with sample sizes N=100 and N=1000, the bias, RMSE, standard error and size of the treatment effect estimate."
   ]
  },
  {
   "cell_type": "code",
   "execution_count": 8,
   "metadata": {},
   "outputs": [],
   "source": [
    "def generate_dataset1b(n_samples=100):    \n",
    "    \"\"\"\n",
    "    w is treatment, y is outcome, x is covariate\n",
    "    \"\"\"   \n",
    "    w = np.random.binomial(n=1, p=0.4, size=n_samples)\n",
    "    x = np.full(n_samples, 3, dtype=int)    \n",
    "    y0 =  2 * x\n",
    "    y1 =  y0 + 1.5\n",
    "    y = np.where(w == 0, y0, y1) + 0.3 * np.random.normal(size=n_samples)\n",
    "        \n",
    "    return pd.DataFrame({\"x\":x, \"y\":y, \"w\":w})"
   ]
  },
  {
   "cell_type": "code",
   "execution_count": 9,
   "metadata": {},
   "outputs": [],
   "source": [
    "df=generate_dataset1b(100)\n",
    "df.to_csv('data1b100.csv', index=False)"
   ]
  },
  {
   "cell_type": "code",
   "execution_count": 10,
   "metadata": {},
   "outputs": [
    {
     "data": {
      "text/plain": [
       "{'estimated_effect': 1.4931004313864698,\n",
       " 'bias': -0.006899568613530249,\n",
       " 'rmse': 0.08306364194718559,\n",
       " 'standard_error': 0.05676897052518281}"
      ]
     },
     "execution_count": 10,
     "metadata": {},
     "output_type": "execute_result"
    }
   ],
   "source": [
    "estimate_treatmenteffect(df)"
   ]
  },
  {
   "cell_type": "code",
   "execution_count": 11,
   "metadata": {},
   "outputs": [],
   "source": [
    "df=generate_dataset1b(1000)\n",
    "df.to_csv('data1b1000.csv', index=False)"
   ]
  },
  {
   "cell_type": "code",
   "execution_count": 12,
   "metadata": {},
   "outputs": [
    {
     "data": {
      "text/plain": [
       "{'estimated_effect': 1.517023632868618,\n",
       " 'bias': 0.017023632868617966,\n",
       " 'rmse': 0.13047464454298377,\n",
       " 'standard_error': 0.0192708598995583}"
      ]
     },
     "execution_count": 12,
     "metadata": {},
     "output_type": "execute_result"
    }
   ],
   "source": [
    "estimate_treatmenteffect(df)"
   ]
  },
  {
   "cell_type": "markdown",
   "metadata": {},
   "source": [
    "## 2. Simulate a DGP with a confounder (common cause)"
   ]
  },
  {
   "cell_type": "markdown",
   "metadata": {},
   "source": [
    "### a. You fail to control for the confounder"
   ]
  },
  {
   "cell_type": "markdown",
   "metadata": {},
   "source": [
    "The DGP can be found in detail from the following code, the DAG here is w -> y, x -> y, u -> w, u -> y, \n",
    "and we present the Monte Carlo experiment with sample sizes N=100 and N=1000, the bias, RMSE, standard error and size of the treatment effect estimate."
   ]
  },
  {
   "cell_type": "code",
   "execution_count": 13,
   "metadata": {},
   "outputs": [],
   "source": [
    "def generate_dataset2a(n_samples=100):    \n",
    "    \"\"\"\n",
    "    w is treatment, y is outcome, x is covariate, u is confounder\n",
    "    \"\"\"   \n",
    "    u = np.random.uniform(0.2,0.8)\n",
    "    w = np.random.binomial(n=1, p=u, size=n_samples)\n",
    "    x = np.random.normal(2, 1, n_samples)    \n",
    "    y0 =  2 * x\n",
    "    y1 =  y0 + 1.5\n",
    "    y = np.where(w == 0, y0, y1) + 2*u + 0.3 * np.random.normal(size=n_samples)\n",
    "        \n",
    "    return pd.DataFrame({\"x\":x, \"y\":y, \"w\":w, \"u\":u})"
   ]
  },
  {
   "cell_type": "code",
   "execution_count": 14,
   "metadata": {},
   "outputs": [],
   "source": [
    "df=generate_dataset2a(100)\n",
    "df.to_csv('data2a100.csv', index=False)"
   ]
  },
  {
   "cell_type": "code",
   "execution_count": 15,
   "metadata": {},
   "outputs": [
    {
     "data": {
      "text/plain": [
       "{'estimated_effect': 1.1104486314984463,\n",
       " 'bias': -0.3895513685015537,\n",
       " 'rmse': 0.6241405038142883,\n",
       " 'standard_error': 0.3484399725621153}"
      ]
     },
     "execution_count": 15,
     "metadata": {},
     "output_type": "execute_result"
    }
   ],
   "source": [
    "estimate_treatmenteffect(df)"
   ]
  },
  {
   "cell_type": "code",
   "execution_count": 16,
   "metadata": {},
   "outputs": [],
   "source": [
    "df=generate_dataset2a(1000)\n",
    "df.to_csv('data2a1000.csv', index=False)"
   ]
  },
  {
   "cell_type": "code",
   "execution_count": 17,
   "metadata": {},
   "outputs": [
    {
     "data": {
      "text/plain": [
       "{'estimated_effect': 1.6211412416158977,\n",
       " 'bias': 0.12114124161589768,\n",
       " 'rmse': 0.34805350395578216,\n",
       " 'standard_error': 0.16710129730187215}"
      ]
     },
     "execution_count": 17,
     "metadata": {},
     "output_type": "execute_result"
    }
   ],
   "source": [
    "estimate_treatmenteffect(df)"
   ]
  },
  {
   "cell_type": "markdown",
   "metadata": {},
   "source": [
    "### b. You do control for the confounder"
   ]
  },
  {
   "cell_type": "markdown",
   "metadata": {},
   "source": [
    "The DGP can be found in detail from the following code, the DAG here is w -> y, x -> y, u -> w, u -> y, now the value of confounder is constant, \n",
    "and we present the Monte Carlo experiment with sample sizes N=100 and N=1000,  the bias, RMSE, standard error and size of the treatment effect estimate."
   ]
  },
  {
   "cell_type": "code",
   "execution_count": 18,
   "metadata": {},
   "outputs": [],
   "source": [
    "def generate_dataset2b(n_samples=100):    \n",
    "    \"\"\"\n",
    "    w is treatment, y is outcome, x is covariate, u is confounder\n",
    "    \"\"\"   \n",
    "    u = 0.5\n",
    "    w = np.random.binomial(n=1, p=u, size=n_samples)\n",
    "    x = np.random.normal(2, 1, n_samples)    \n",
    "    y0 =  2 * x\n",
    "    y1 =  y0 + 1.5\n",
    "    y = np.where(w == 0, y0, y1) + 2*u + 0.3 * np.random.normal(size=n_samples)\n",
    "        \n",
    "    return pd.DataFrame({\"x\":x, \"y\":y, \"w\":w, \"u\":u})"
   ]
  },
  {
   "cell_type": "code",
   "execution_count": 19,
   "metadata": {},
   "outputs": [],
   "source": [
    "df=generate_dataset2b(100)\n",
    "df.to_csv('data2b100.csv', index=False)"
   ]
  },
  {
   "cell_type": "code",
   "execution_count": 20,
   "metadata": {},
   "outputs": [
    {
     "data": {
      "text/plain": [
       "{'estimated_effect': 1.633047805590671,\n",
       " 'bias': 0.13304780559067098,\n",
       " 'rmse': 0.3647571871679446,\n",
       " 'standard_error': 0.3510008737731751}"
      ]
     },
     "execution_count": 20,
     "metadata": {},
     "output_type": "execute_result"
    }
   ],
   "source": [
    "estimate_treatmenteffect(df)"
   ]
  },
  {
   "cell_type": "code",
   "execution_count": 21,
   "metadata": {},
   "outputs": [],
   "source": [
    "df=generate_dataset2b(1000)\n",
    "df.to_csv('data2b1000.csv', index=False)"
   ]
  },
  {
   "cell_type": "code",
   "execution_count": 22,
   "metadata": {},
   "outputs": [
    {
     "data": {
      "text/plain": [
       "{'estimated_effect': 1.5018138874215765,\n",
       " 'bias': 0.00181388742157651,\n",
       " 'rmse': 0.04258975723782081,\n",
       " 'standard_error': 0.12884388240597047}"
      ]
     },
     "execution_count": 22,
     "metadata": {},
     "output_type": "execute_result"
    }
   ],
   "source": [
    "estimate_treatmenteffect(df)"
   ]
  },
  {
   "cell_type": "markdown",
   "metadata": {},
   "source": [
    "## 3. Simulate a DGP with selection bias into the treatment (variable in between the path from the treatment to the outcome)"
   ]
  },
  {
   "cell_type": "markdown",
   "metadata": {},
   "source": [
    "### a. You control for the variable in between the path from cause to effect"
   ]
  },
  {
   "cell_type": "markdown",
   "metadata": {},
   "source": [
    "The DGP can be found in detail from the following code, the DAG here is w -> y, x -> y, s -> y, s stands for the selection bias,\n",
    "and we present the Monte Carlo experiment with sample sizes N=100 and N=1000, the bias, RMSE, standard error and size of the treatment effect estimate."
   ]
  },
  {
   "cell_type": "code",
   "execution_count": 23,
   "metadata": {},
   "outputs": [],
   "source": [
    "def generate_dataset3a(n_samples=100):    \n",
    "    \"\"\"\n",
    "    w is treatment, y is outcome, x is covariate, s is selection bias\n",
    "    \"\"\"   \n",
    "    s = 0.25\n",
    "    w = np.random.binomial(n=1, p=0.4, size=n_samples)\n",
    "    x = np.random.normal(2, 1, n_samples)    \n",
    "    y0 =  2 * x + s\n",
    "    y1 =  y0 + 1.5\n",
    "    y = np.where(w == 0, y0, y1) + 0.3 * np.random.normal(size=n_samples)\n",
    "        \n",
    "    return pd.DataFrame({\"x\":x, \"y\":y, \"w\":w})"
   ]
  },
  {
   "cell_type": "code",
   "execution_count": 24,
   "metadata": {},
   "outputs": [],
   "source": [
    "df=generate_dataset3a(100)\n",
    "df.to_csv('data3a100.csv', index=False)"
   ]
  },
  {
   "cell_type": "code",
   "execution_count": 25,
   "metadata": {},
   "outputs": [
    {
     "data": {
      "text/plain": [
       "{'estimated_effect': 1.63707189769675,\n",
       " 'bias': 0.13707189769675,\n",
       " 'rmse': 0.3702322213108281,\n",
       " 'standard_error': 0.43277037104703936}"
      ]
     },
     "execution_count": 25,
     "metadata": {},
     "output_type": "execute_result"
    }
   ],
   "source": [
    "estimate_treatmenteffect(df)"
   ]
  },
  {
   "cell_type": "code",
   "execution_count": 26,
   "metadata": {},
   "outputs": [],
   "source": [
    "df=generate_dataset3a(1000)\n",
    "df.to_csv('data3a1000.csv', index=False)"
   ]
  },
  {
   "cell_type": "code",
   "execution_count": 27,
   "metadata": {},
   "outputs": [
    {
     "data": {
      "text/plain": [
       "{'estimated_effect': 1.4152148096380328,\n",
       " 'bias': -0.08478519036196719,\n",
       " 'rmse': 0.29117896620801303,\n",
       " 'standard_error': 0.13679564984714163}"
      ]
     },
     "execution_count": 27,
     "metadata": {},
     "output_type": "execute_result"
    }
   ],
   "source": [
    "estimate_treatmenteffect(df)"
   ]
  },
  {
   "cell_type": "markdown",
   "metadata": {},
   "source": [
    "### b. You do not control for the variable in between the path from cause to effect"
   ]
  },
  {
   "cell_type": "markdown",
   "metadata": {},
   "source": [
    "The DGP can be found in detail from the following code, the DAG here is w -> y, x -> y, s -> y, \n",
    "and we present the Monte Carlo experiment with sample sizes N=100 and N=1000, the bias, RMSE, standard error and size of the treatment effect estimate."
   ]
  },
  {
   "cell_type": "code",
   "execution_count": 28,
   "metadata": {},
   "outputs": [],
   "source": [
    "def generate_dataset3b(n_samples=100):    \n",
    "    \"\"\"\n",
    "    w is treatment, y is outcome, x is covariate, s is selection bias\n",
    "    \"\"\"   \n",
    "    s = np.random.standard_normal()\n",
    "    w = np.random.binomial(n=1, p=0.4, size=n_samples)\n",
    "    x = np.random.normal(2, 1, n_samples)    \n",
    "    y0 =  2 * x + s\n",
    "    y1 =  y0 + 1.5\n",
    "    y = np.where(w == 0, y0, y1) + 0.3 * np.random.normal(size=n_samples)\n",
    "        \n",
    "    return pd.DataFrame({\"x\":x, \"y\":y, \"w\":w})"
   ]
  },
  {
   "cell_type": "code",
   "execution_count": 29,
   "metadata": {},
   "outputs": [],
   "source": [
    "df=generate_dataset3b(100)\n",
    "df.to_csv('data3b100.csv', index=False)"
   ]
  },
  {
   "cell_type": "code",
   "execution_count": 30,
   "metadata": {},
   "outputs": [
    {
     "data": {
      "text/plain": [
       "{'estimated_effect': 2.1638610926992783,\n",
       " 'bias': 0.6638610926992783,\n",
       " 'rmse': 0.8147767134002286,\n",
       " 'standard_error': 0.41634700014499504}"
      ]
     },
     "execution_count": 30,
     "metadata": {},
     "output_type": "execute_result"
    }
   ],
   "source": [
    "estimate_treatmenteffect(df)"
   ]
  },
  {
   "cell_type": "code",
   "execution_count": 31,
   "metadata": {},
   "outputs": [],
   "source": [
    "df=generate_dataset3b(1000)\n",
    "df.to_csv('data3b1000.csv', index=False)"
   ]
  },
  {
   "cell_type": "code",
   "execution_count": 32,
   "metadata": {},
   "outputs": [
    {
     "data": {
      "text/plain": [
       "{'estimated_effect': 1.346816135024305,\n",
       " 'bias': -0.15318386497569492,\n",
       " 'rmse': 0.3913871037421838,\n",
       " 'standard_error': 0.13305159691217608}"
      ]
     },
     "execution_count": 32,
     "metadata": {},
     "output_type": "execute_result"
    }
   ],
   "source": [
    "estimate_treatmenteffect(df)"
   ]
  },
  {
   "cell_type": "markdown",
   "metadata": {},
   "source": [
    "## 4. Simulate a DGP where the outcome variable is overrepresented at 0."
   ]
  },
  {
   "cell_type": "markdown",
   "metadata": {},
   "source": [
    "The DGP can be found in detail from the following code, the DAG here is w -> y, x -> y, this time most outcome are untreated, \n",
    "and we present the Monte Carlo experiment with sample sizes N=100 and N=1000, the bias, RMSE, standard error and size of the treatment effect estimate."
   ]
  },
  {
   "cell_type": "code",
   "execution_count": 33,
   "metadata": {},
   "outputs": [],
   "source": [
    "def generate_dataset4(n_samples=100):    \n",
    "    \"\"\"\n",
    "    w is treatment, y is outcome, x is covariate, \n",
    "    since the outcome variable is overrepresented at 0, we set the prob of the treatment as 0.1, and the untreated outcome as 0.\n",
    "    \"\"\"   \n",
    "    w = np.random.binomial(n=1, p=0.1, size=n_samples)\n",
    "    x = np.random.normal(0, 1, n_samples)    \n",
    "    y0 =  x\n",
    "    y1 =  y0 + 1.5\n",
    "    y = np.where(w == 0, y0, y1) + 0.3 * np.random.normal(size=n_samples)\n",
    "        \n",
    "    return pd.DataFrame({\"x\":x, \"y\":y, \"w\":w})"
   ]
  },
  {
   "cell_type": "code",
   "execution_count": 34,
   "metadata": {},
   "outputs": [],
   "source": [
    "df4100=generate_dataset4(100)\n",
    "df4100.to_csv('data4100.csv', index=False)"
   ]
  },
  {
   "cell_type": "code",
   "execution_count": 35,
   "metadata": {},
   "outputs": [],
   "source": [
    "df41000=generate_dataset4(1000)\n",
    "df41000.to_csv('data41000.csv', index=False)"
   ]
  },
  {
   "cell_type": "markdown",
   "metadata": {},
   "source": [
    "### a. You estimate the treatment effect parameter using the Conditional-on-Positives (COP) framework"
   ]
  },
  {
   "cell_type": "code",
   "execution_count": 36,
   "metadata": {},
   "outputs": [],
   "source": [
    "def estimate_treatmenteffect_cop(df):\n",
    "    df = df[df.y > 0]     ##the Conditional-on-Positives (COP) framework\n",
    "    y0 = df[df.w == 0]\n",
    "    y1 = df[df.w == 1]\n",
    "    \n",
    "    delta = y1.y.mean() - y0.y.mean()\n",
    "    delta_err = np.sqrt(\n",
    "        y1.y.var() / y1.shape[0] + \n",
    "        y0.y.var() / y0.shape[0])\n",
    "    bias = delta - 1.5\n",
    "    rmse = np.sqrt(abs(bias))\n",
    "    \n",
    "    return {\"estimated_effect\": delta, \"bias\":bias, \"rmse\":rmse,\"standard_error\": delta_err}"
   ]
  },
  {
   "cell_type": "code",
   "execution_count": 37,
   "metadata": {},
   "outputs": [
    {
     "data": {
      "text/plain": [
       "{'estimated_effect': 0.6521230916292265,\n",
       " 'bias': -0.8478769083707735,\n",
       " 'rmse': 0.9208023177483718,\n",
       " 'standard_error': 0.3303502241080234}"
      ]
     },
     "execution_count": 37,
     "metadata": {},
     "output_type": "execute_result"
    }
   ],
   "source": [
    "estimate_treatmenteffect_cop(df4100)"
   ]
  },
  {
   "cell_type": "code",
   "execution_count": 38,
   "metadata": {},
   "outputs": [
    {
     "data": {
      "text/plain": [
       "{'estimated_effect': 0.7439632021677641,\n",
       " 'bias': -0.7560367978322359,\n",
       " 'rmse': 0.8695037652777795,\n",
       " 'standard_error': 0.10226001317195668}"
      ]
     },
     "execution_count": 38,
     "metadata": {},
     "output_type": "execute_result"
    }
   ],
   "source": [
    "estimate_treatmenteffect_cop(df41000)"
   ]
  },
  {
   "cell_type": "markdown",
   "metadata": {},
   "source": [
    "### b. You estimate the treatment effect using the conventional method of comparing the outcomes of treated and untreated individuals."
   ]
  },
  {
   "cell_type": "code",
   "execution_count": 39,
   "metadata": {},
   "outputs": [
    {
     "data": {
      "text/plain": [
       "{'estimated_effect': 1.7408977460697308,\n",
       " 'bias': 0.2408977460697308,\n",
       " 'rmse': 0.49081335156017386,\n",
       " 'standard_error': 0.3401212226752442}"
      ]
     },
     "execution_count": 39,
     "metadata": {},
     "output_type": "execute_result"
    }
   ],
   "source": [
    "estimate_treatmenteffect(df4100)"
   ]
  },
  {
   "cell_type": "code",
   "execution_count": 40,
   "metadata": {},
   "outputs": [
    {
     "data": {
      "text/plain": [
       "{'estimated_effect': 1.3762302228746384,\n",
       " 'bias': -0.12376977712536164,\n",
       " 'rmse': 0.3518092908457104,\n",
       " 'standard_error': 0.1163253479442012}"
      ]
     },
     "execution_count": 40,
     "metadata": {},
     "output_type": "execute_result"
    }
   ],
   "source": [
    "estimate_treatmenteffect(df41000)"
   ]
  },
  {
   "cell_type": "code",
   "execution_count": null,
   "metadata": {},
   "outputs": [],
   "source": []
  }
 ],
 "metadata": {
  "kernelspec": {
   "display_name": "Python 3",
   "language": "python",
   "name": "python3"
  },
  "language_info": {
   "codemirror_mode": {
    "name": "ipython",
    "version": 3
   },
   "file_extension": ".py",
   "mimetype": "text/x-python",
   "name": "python",
   "nbconvert_exporter": "python",
   "pygments_lexer": "ipython3",
   "version": "3.7.1"
  }
 },
 "nbformat": 4,
 "nbformat_minor": 4
}
